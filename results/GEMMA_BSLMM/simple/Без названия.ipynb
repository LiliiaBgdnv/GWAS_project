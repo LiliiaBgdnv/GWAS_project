{
 "cells": [
  {
   "cell_type": "code",
   "execution_count": 7,
   "id": "ba4aa5d1-d895-4f28-843c-65bd3e20c40b",
   "metadata": {
    "tags": []
   },
   "outputs": [
    {
     "name": "stdout",
     "output_type": "stream",
     "text": [
      "1\n",
      "3\n",
      "5\n",
      "7\n"
     ]
    }
   ],
   "source": [
    "points = [1, 2, 3, 4, 5, 6, 7, 8]\n",
    "for i in  range (0, len(points), 2):\n",
    "  print (points[i])"
   ]
  },
  {
   "cell_type": "code",
   "execution_count": 8,
   "id": "db4c3e55-1879-4ec0-aa9d-477733ecc9a3",
   "metadata": {
    "tags": []
   },
   "outputs": [
    {
     "name": "stdout",
     "output_type": "stream",
     "text": [
      "False\n"
     ]
    }
   ],
   "source": [
    "print (1 + 3 * 2 < 4 and not 5 - 2 * 2 > 3)"
   ]
  },
  {
   "cell_type": "code",
   "execution_count": 10,
   "id": "f8acc247-547b-4e16-b3af-963abacfe8c5",
   "metadata": {
    "tags": []
   },
   "outputs": [
    {
     "name": "stdout",
     "output_type": "stream",
     "text": [
      "Неправильное имя\n",
      "Выход из программы\n"
     ]
    }
   ],
   "source": [
    "try:\n",
    "    y=x.pop()\n",
    "except AttributeError:\n",
    "    print ('Неправильный атрибут')\n",
    "except NameError:\n",
    "    print ('Неправильное имя')\n",
    "finally:\n",
    "    print ('Выход из программы')"
   ]
  },
  {
   "cell_type": "code",
   "execution_count": 16,
   "id": "9e349904-e5d5-49ce-bcf6-03439da29f28",
   "metadata": {
    "tags": []
   },
   "outputs": [
    {
     "ename": "TypeError",
     "evalue": "list indices must be integers or slices, not str",
     "output_type": "error",
     "traceback": [
      "\u001b[0;31m---------------------------------------------------------------------------\u001b[0m",
      "\u001b[0;31mTypeError\u001b[0m                                 Traceback (most recent call last)",
      "Cell \u001b[0;32mIn[16], line 4\u001b[0m\n\u001b[1;32m      2\u001b[0m nums \u001b[38;5;241m=\u001b[39m [\u001b[38;5;241m1\u001b[39m,\u001b[38;5;241m4\u001b[39m,\u001b[38;5;241m2\u001b[39m]\n\u001b[1;32m      3\u001b[0m f \u001b[38;5;241m=\u001b[39m   \u001b[38;5;28;01mlambda\u001b[39;00m x: nums[x]\n\u001b[0;32m----> 4\u001b[0m \u001b[38;5;28mprint\u001b[39m ([f(x) \u001b[38;5;28;01mfor\u001b[39;00m x \u001b[38;5;129;01min\u001b[39;00m phrase])\n",
      "Cell \u001b[0;32mIn[16], line 4\u001b[0m, in \u001b[0;36m<listcomp>\u001b[0;34m(.0)\u001b[0m\n\u001b[1;32m      2\u001b[0m nums \u001b[38;5;241m=\u001b[39m [\u001b[38;5;241m1\u001b[39m,\u001b[38;5;241m4\u001b[39m,\u001b[38;5;241m2\u001b[39m]\n\u001b[1;32m      3\u001b[0m f \u001b[38;5;241m=\u001b[39m   \u001b[38;5;28;01mlambda\u001b[39;00m x: nums[x]\n\u001b[0;32m----> 4\u001b[0m \u001b[38;5;28mprint\u001b[39m ([\u001b[43mf\u001b[49m\u001b[43m(\u001b[49m\u001b[43mx\u001b[49m\u001b[43m)\u001b[49m \u001b[38;5;28;01mfor\u001b[39;00m x \u001b[38;5;129;01min\u001b[39;00m phrase])\n",
      "Cell \u001b[0;32mIn[16], line 3\u001b[0m, in \u001b[0;36m<lambda>\u001b[0;34m(x)\u001b[0m\n\u001b[1;32m      1\u001b[0m phrase \u001b[38;5;241m=\u001b[39m \u001b[38;5;124m'\u001b[39m\u001b[38;5;124mHello\u001b[39m\u001b[38;5;124m'\u001b[39m;\n\u001b[1;32m      2\u001b[0m nums \u001b[38;5;241m=\u001b[39m [\u001b[38;5;241m1\u001b[39m,\u001b[38;5;241m4\u001b[39m,\u001b[38;5;241m2\u001b[39m]\n\u001b[0;32m----> 3\u001b[0m f \u001b[38;5;241m=\u001b[39m   \u001b[38;5;28;01mlambda\u001b[39;00m x: \u001b[43mnums\u001b[49m\u001b[43m[\u001b[49m\u001b[43mx\u001b[49m\u001b[43m]\u001b[49m\n\u001b[1;32m      4\u001b[0m \u001b[38;5;28mprint\u001b[39m ([f(x) \u001b[38;5;28;01mfor\u001b[39;00m x \u001b[38;5;129;01min\u001b[39;00m phrase])\n",
      "\u001b[0;31mTypeError\u001b[0m: list indices must be integers or slices, not str"
     ]
    }
   ],
   "source": [
    "phrase = 'Hello';\n",
    "nums = [1,4,2]\n",
    "f = lambda x: nums[x]\n",
    "print ([f(x) for x in phrase])"
   ]
  },
  {
   "cell_type": "code",
   "execution_count": 18,
   "id": "1fa329c6-f739-495b-bd0b-82f85a7730d2",
   "metadata": {
    "tags": []
   },
   "outputs": [
    {
     "name": "stdout",
     "output_type": "stream",
     "text": [
      "('empty', 3)\n"
     ]
    }
   ],
   "source": [
    "def fun(el, lst = ('empty',)):\n",
    "    lst+=(el,)\n",
    "    return lst\n",
    "fun(1)\n",
    "fun(2)\n",
    "print (fun(3))"
   ]
  }
 ],
 "metadata": {
  "kernelspec": {
   "display_name": "Python 3 (ipykernel)",
   "language": "python",
   "name": "python3"
  },
  "language_info": {
   "codemirror_mode": {
    "name": "ipython",
    "version": 3
   },
   "file_extension": ".py",
   "mimetype": "text/x-python",
   "name": "python",
   "nbconvert_exporter": "python",
   "pygments_lexer": "ipython3",
   "version": "3.9.6"
  }
 },
 "nbformat": 4,
 "nbformat_minor": 5
}
